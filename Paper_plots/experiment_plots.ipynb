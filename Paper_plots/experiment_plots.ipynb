{
 "cells": [
  {
   "cell_type": "code",
   "execution_count": 2,
   "metadata": {
    "collapsed": true
   },
   "outputs": [],
   "source": [
    "import scipy.io\n",
    "import numpy as np\n",
    "# from functions_based import *\n",
    "import knots_ML.dots_processing as dp\n",
    "from plotly.offline import plot"
   ]
  },
  {
   "cell_type": "code",
   "execution_count": 3,
   "outputs": [],
   "source": [
    "def mat_to_np(file, variable=None):\n",
    "    mat = scipy.io.loadmat(file)\n",
    "    if variable is None:\n",
    "        print(mat.keys())\n",
    "        return\n",
    "\n",
    "    numpy_array = mat[variable]\n",
    "    return numpy_array\n",
    "\n",
    "def make_dots_from_array(A):\n",
    "    dots = []\n",
    "    for z, z_array in enumerate(A):\n",
    "        for x, y in z_array:\n",
    "            dots.append([x, y, z])\n",
    "    return np.array(dots)\n"
   ],
   "metadata": {
    "collapsed": false
   }
  },
  {
   "cell_type": "code",
   "execution_count": 4,
   "outputs": [],
   "source": [
    "def make_dots(file, variable=None):\n",
    "    array = mat_to_np(file, variable)[0]\n",
    "    dots = make_dots_from_array(array)\n",
    "    return dots\n",
    "\n",
    "def scale_to_range(column, new_min, new_max):\n",
    "    min_val = column.min()\n",
    "    max_val = column.max()\n",
    "    scaled_column = (column - min_val) / (max_val - min_val) * (new_max - new_min) + new_min\n",
    "    return scaled_column\n",
    "\n",
    "\n",
    "def round_dots_same_as_z(dots):\n",
    "    max_z = (dots[:, 2]).max()\n",
    "    min_z = (dots[:, 2]).min()\n",
    "    scaled_first_column = scale_to_range(dots[:, 0], min_z, max_z)\n",
    "    scaled_second_column = scale_to_range(dots[:, 1], min_z, max_z)\n",
    "    rounded_first_column = np.rint(scaled_first_column)\n",
    "    rounded_second_column = np.rint(scaled_second_column)\n",
    "    rounded_data = np.column_stack((rounded_first_column, rounded_second_column, dots[:, 2]))\n",
    "    return rounded_data\n",
    "\n",
    "def euclidean_distance(point1, point2):\n",
    "    return np.sqrt(np.sum((np.array(point1) - np.array(point2)) ** 2))\n",
    "\n",
    "def sort_points_by_proximity(points):\n",
    "\n",
    "    # Start with the first point\n",
    "    points = np.array(points)\n",
    "    sorted_points = [points[0, :].tolist()]\n",
    "    points = np.delete(points, 0, axis=0)\n",
    "\n",
    "    while len(points) > 0:\n",
    "        last_point = sorted_points[-1]\n",
    "        distances = np.linalg.norm(points - last_point, axis=1)\n",
    "        closest_idx = np.argmin(distances)\n",
    "        sorted_points.append(points[closest_idx, :].tolist())\n",
    "        points = np.delete(points, closest_idx, axis=0)\n",
    "\n",
    "    return np.array(sorted_points)"
   ],
   "metadata": {
    "collapsed": false
   }
  },
  {
   "cell_type": "code",
   "execution_count": 5,
   "outputs": [],
   "source": [
    "trefoil_standard_path = './experimental_data/dots_coord.mat'\n",
    "variable = 'p_charges'\n",
    "\n",
    "trefoil_standard_not_r = make_dots(trefoil_standard_path, variable)"
   ],
   "metadata": {
    "collapsed": false
   }
  },
  {
   "cell_type": "code",
   "execution_count": 6,
   "outputs": [
    {
     "data": {
      "text/plain": "array([[15., 33.,  0.],\n       [15., 33.,  1.],\n       [16., 33.,  2.],\n       [16., 34.,  3.],\n       [16., 34.,  4.],\n       [16., 35.,  5.],\n       [17., 34.,  6.],\n       [16., 36.,  7.],\n       [16., 37.,  8.],\n       [16., 38.,  9.],\n       [16., 38., 10.],\n       [17., 38., 11.],\n       [17., 38., 12.],\n       [17., 37., 13.],\n       [17., 37., 14.],\n       [17., 37., 15.],\n       [17., 37., 16.],\n       [16., 37., 17.],\n       [17., 38., 18.],\n       [17., 37., 19.],\n       [17., 37., 20.],\n       [17., 37., 21.],\n       [17., 37., 22.],\n       [17., 37., 23.],\n       [16., 38., 24.],\n       [16., 39., 25.],\n       [17., 40., 26.],\n       [16., 40., 27.],\n       [17., 40., 28.],\n       [17., 41., 29.],\n       [16., 41., 30.],\n       [16., 42., 31.],\n       [17., 43., 32.],\n       [17., 43., 33.],\n       [18., 42., 34.],\n       [18., 42., 35.],\n       [18., 42., 36.],\n       [18., 42., 37.],\n       [19., 42., 38.],\n       [19., 43., 39.],\n       [19., 43., 40.],\n       [20., 43., 41.],\n       [21., 43., 42.],\n       [21., 43., 43.],\n       [22., 44., 44.],\n       [31., 38., 44.],\n       [32., 37., 43.],\n       [32., 35., 42.],\n       [32., 34., 41.],\n       [32., 34., 40.],\n       [32., 34., 39.],\n       [31., 35., 37.],\n       [31., 36., 38.],\n       [32., 36., 36.],\n       [32., 36., 35.],\n       [32., 36., 34.],\n       [32., 36., 33.],\n       [32., 35., 32.],\n       [32., 36., 31.],\n       [32., 36., 30.],\n       [32., 36., 29.],\n       [32., 36., 28.],\n       [32., 35., 27.],\n       [32., 33., 26.],\n       [33., 34., 25.],\n       [33., 33., 23.],\n       [33., 33., 22.],\n       [33., 32., 21.],\n       [33., 34., 20.],\n       [33., 34., 19.],\n       [33., 35., 17.],\n       [29., 36., 13.],\n       [30., 37., 12.],\n       [29., 37., 11.],\n       [29., 36.,  9.],\n       [27., 35.,  7.],\n       [28., 36.,  6.],\n       [30., 37.,  5.],\n       [30., 39.,  4.],\n       [30., 39.,  3.],\n       [30., 38.,  2.],\n       [32., 40.,  1.],\n       [32., 40.,  1.],\n       [34., 41.,  2.],\n       [35., 42.,  3.],\n       [36., 42.,  4.],\n       [37., 42.,  5.],\n       [38., 42.,  6.],\n       [39., 43.,  7.],\n       [39., 43.,  8.],\n       [39., 44.,  9.],\n       [40., 44., 10.],\n       [40., 44., 11.],\n       [40., 43., 12.],\n       [40., 42., 13.],\n       [41., 42., 14.],\n       [42., 41., 15.],\n       [43., 40., 16.],\n       [43., 39., 17.],\n       [43., 38., 18.],\n       [43., 39., 19.],\n       [43., 38., 20.],\n       [43., 38., 21.],\n       [43., 38., 22.],\n       [43., 38., 23.],\n       [44., 38., 24.],\n       [44., 37., 25.],\n       [43., 37., 26.],\n       [43., 37., 27.],\n       [43., 37., 28.],\n       [43., 37., 29.],\n       [43., 37., 30.],\n       [43., 38., 31.],\n       [43., 37., 32.],\n       [44., 37., 33.],\n       [43., 36., 34.],\n       [43., 35., 35.],\n       [43., 35., 36.],\n       [43., 33., 37.],\n       [43., 34., 38.],\n       [44., 33., 39.],\n       [43., 33., 40.],\n       [44., 33., 41.],\n       [43., 32., 42.],\n       [42., 32., 43.],\n       [42., 32., 44.],\n       [43., 33., 44.],\n       [41., 30., 43.],\n       [39., 29., 42.],\n       [38., 29., 41.],\n       [39., 28., 40.],\n       [37., 28., 39.],\n       [35., 27., 39.],\n       [33., 26., 39.],\n       [32., 26., 38.],\n       [31., 25., 37.],\n       [30., 26., 36.],\n       [30., 26., 35.],\n       [30., 27., 34.],\n       [31., 28., 33.],\n       [32., 27., 32.],\n       [30., 26., 31.],\n       [29., 27., 30.],\n       [30., 26., 29.],\n       [29., 25., 28.],\n       [29., 26., 27.],\n       [29., 25., 26.],\n       [29., 24., 25.],\n       [31., 25., 24.],\n       [31., 25., 23.],\n       [32., 25., 21.],\n       [30., 25., 20.],\n       [30., 25., 19.],\n       [29., 25., 18.],\n       [28., 26., 17.],\n       [27., 26., 16.],\n       [27., 26., 15.],\n       [28., 27., 14.],\n       [28., 28., 13.],\n       [28., 29., 12.],\n       [28., 29., 11.],\n       [28., 29., 10.],\n       [27., 29.,  9.],\n       [26., 28.,  8.],\n       [25., 28.,  7.],\n       [25., 27.,  6.],\n       [24., 27.,  5.],\n       [23., 27.,  4.],\n       [24., 27.,  3.],\n       [24., 27.,  1.],\n       [24., 27.,  0.],\n       [22., 27.,  2.],\n       [20., 29.,  0.],\n       [18., 30.,  0.],\n       [26., 33.,  8.],\n       [28., 33., 14.],\n       [27., 33., 15.],\n       [25., 32., 16.],\n       [26., 31., 17.],\n       [25., 31., 18.],\n       [26., 31., 19.],\n       [27., 30., 20.],\n       [27., 30., 21.],\n       [27., 31., 22.],\n       [27., 31., 23.],\n       [27., 31., 24.],\n       [26., 31., 25.],\n       [25., 31., 26.],\n       [24., 31., 27.],\n       [24., 31., 28.],\n       [24., 31., 29.],\n       [24., 31., 30.],\n       [25., 32., 31.],\n       [26., 32., 32.],\n       [26., 31., 33.],\n       [25., 31., 34.],\n       [25., 30., 35.],\n       [25., 30., 36.],\n       [24., 29., 37.],\n       [25., 29., 38.],\n       [25., 28., 39.],\n       [25., 27., 40.],\n       [25., 29., 41.],\n       [26., 30., 42.],\n       [26., 30., 43.],\n       [26., 31., 44.],\n       [25., 21., 37.],\n       [25., 16., 38.],\n       [25., 15., 39.],\n       [24., 16., 40.],\n       [24., 16., 41.],\n       [24., 16., 42.],\n       [24., 16., 43.],\n       [24., 17., 44.],\n       [25., 15., 36.],\n       [26., 14., 35.],\n       [26., 14., 34.],\n       [26., 14., 33.],\n       [26., 15., 32.],\n       [26., 15., 31.],\n       [27., 14., 30.],\n       [28., 14., 29.],\n       [28., 13., 28.],\n       [29., 13., 27.],\n       [29., 13., 26.],\n       [30., 13., 25.],\n       [30., 12., 24.],\n       [30., 13., 23.],\n       [31., 13., 22.],\n       [31., 13., 21.],\n       [32., 14., 20.],\n       [32., 14., 19.],\n       [33., 15., 17.],\n       [33., 16., 18.],\n       [34., 16., 16.],\n       [34., 18., 15.],\n       [34., 19., 14.],\n       [34., 19., 13.],\n       [34., 19., 12.],\n       [34., 20., 11.],\n       [34., 20., 10.],\n       [34., 20.,  9.],\n       [35., 21.,  8.],\n       [35., 20.,  7.],\n       [35., 20.,  6.],\n       [36., 20.,  4.],\n       [36., 22.,  5.],\n       [36., 23.,  5.],\n       [36., 24.,  4.],\n       [36., 25.,  6.],\n       [36., 25.,  7.],\n       [36., 26.,  8.],\n       [35., 26.,  9.],\n       [36., 27., 10.],\n       [36., 28., 11.],\n       [35., 28., 12.],\n       [36., 28., 13.],\n       [36., 28., 14.],\n       [35., 26., 15.],\n       [35., 26., 16.],\n       [35., 27., 18.],\n       [34., 26., 22.],\n       [33., 32., 24.],\n       [34., 29., 33.],\n       [34., 29., 34.],\n       [35., 29., 34.],\n       [36., 29., 33.],\n       [31., 38., 10.],\n       [ 4.,  0., 13.],\n       [ 2.,  0., 14.],\n       [ 1.,  2., 16.],\n       [ 0.,  1., 17.]])"
     },
     "execution_count": 6,
     "metadata": {},
     "output_type": "execute_result"
    }
   ],
   "source": [
    "trefoil_standard_not_sorted = round_dots_same_as_z(trefoil_standard_not_r)\n",
    "trefoil_standard = sort_points_by_proximity(trefoil_standard_not_sorted)\n",
    "trefoil_standard"
   ],
   "metadata": {
    "collapsed": false
   }
  },
  {
   "cell_type": "code",
   "execution_count": 9,
   "outputs": [],
   "source": [
    "dotSize = 10\n",
    "boundary_3D_k = [[0, 0, 0], [50, 50, 50]]\n",
    "labels = [str(i) for i in range(trefoil_standard.shape[0])]\n",
    "# fig = dp.plotDots_Hopf(dots_init, boundary_3D_k, color='red', show=False, size=dotSize)\n",
    "\n"
   ],
   "metadata": {
    "collapsed": false
   }
  },
  {
   "cell_type": "code",
   "execution_count": 12,
   "outputs": [
    {
     "data": {
      "text/plain": "'my_plot.html'"
     },
     "execution_count": 12,
     "metadata": {},
     "output_type": "execute_result"
    }
   ],
   "source": [
    "fig = dp.plotDots_Hopf(trefoil_standard, boundary_3D_k, color='royalblue', show=False, size=dotSize, text=labels)\n",
    "plot(fig, filename='my_plot.html')"
   ],
   "metadata": {
    "collapsed": false
   }
  },
  {
   "cell_type": "code",
   "execution_count": 25,
   "outputs": [
    {
     "data": {
      "text/plain": "'my_plot.html'"
     },
     "execution_count": 25,
     "metadata": {},
     "output_type": "execute_result"
    }
   ],
   "source": [
    "# indices_line1 = np.r_[207:213+1, 214:261+1, 71:140+1]\n",
    "indices_line1 = np.r_[71:149+1, 174:183+1, 267, ]\n",
    "indices_line2 = np.r_[207:213+1, 214:260+1, 65:70+1, 184:205+1]\n",
    "max_index = len(trefoil_standard)\n",
    "all_indices = np.arange(max_index)\n",
    "set_line1 = set(indices_line1)\n",
    "set_line2 = set(indices_line2)\n",
    "set_all = set(all_indices)\n",
    "set_extra = set(np.array([263, 264, 265, 266, 206, 268, 269, 270, 271]))\n",
    "indices_line3 = np.array(list(set_all - set_line1 - set_line2 - set_extra))\n",
    "fig = dp.plotDots_Hopf(trefoil_standard[indices_line1], boundary_3D_k, color='royalblue', show=False, size=dotSize, text=labels)\n",
    "dp.plotDots_Hopf(trefoil_standard[indices_line2], boundary_3D_k, color='red', show=False, size=dotSize, text=labels, fig=fig)\n",
    "dp.plotDots_Hopf(trefoil_standard[indices_line3], boundary_3D_k, color='green', show=False, size=dotSize, text=labels, fig=fig, save='standard_trefoil.html')\n",
    "plot(fig, filename='my_plot.html')\n",
    "# [213:207]  [214:261]  [71:140]"
   ],
   "metadata": {
    "collapsed": false
   }
  },
  {
   "cell_type": "code",
   "execution_count": 28,
   "outputs": [],
   "source": [
    "trefoil_standard_dict = {\n",
    "    'all_dots' : trefoil_standard,\n",
    "    'line1' : indices_line1,\n",
    "    'line2' : indices_line2,\n",
    "    'line3' : indices_line3,\n",
    "}\n",
    "scipy.io.savemat('trefoil_standard.mat', trefoil_standard_dict)"
   ],
   "metadata": {
    "collapsed": false
   }
  }
 ],
 "metadata": {
  "kernelspec": {
   "display_name": "Python 3",
   "language": "python",
   "name": "python3"
  },
  "language_info": {
   "codemirror_mode": {
    "name": "ipython",
    "version": 2
   },
   "file_extension": ".py",
   "mimetype": "text/x-python",
   "name": "python",
   "nbconvert_exporter": "python",
   "pygments_lexer": "ipython2",
   "version": "2.7.6"
  }
 },
 "nbformat": 4,
 "nbformat_minor": 0
}
